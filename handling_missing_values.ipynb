{
 "cells": [
  {
   "cell_type": "code",
   "id": "initial_id",
   "metadata": {
    "collapsed": true
   },
   "source": [
    "import pandas as pd\n",
    "import numpy as np\n",
    "pd.set_option('display.max_rows', 5)"
   ],
   "outputs": [],
   "execution_count": null
  },
  {
   "metadata": {},
   "cell_type": "code",
   "source": "nfl_data = pd.read_csv(\"../data/nflplaybyplay2009to2016/NFL Play by Play 2009-2017 (v4).csv\")",
   "id": "6b02e5734efbab23",
   "outputs": [],
   "execution_count": null
  },
  {
   "metadata": {},
   "cell_type": "code",
   "source": "nfl_data.describe()",
   "id": "e3bd39b1511e67ec",
   "outputs": [],
   "execution_count": null
  },
  {
   "metadata": {},
   "cell_type": "code",
   "source": [
    "nfl_data.head()\n",
    "missing_values_count = nfl_data.isnull().sum()"
   ],
   "id": "f02762e9352186f6",
   "outputs": [],
   "execution_count": null
  },
  {
   "metadata": {},
   "cell_type": "code",
   "source": [
    "total_cells = np.prod(nfl_data.shape)\n",
    "total_missing = missing_values_count.sum()\n",
    "\n",
    "percent_missing = (total_missing/total_cells)*100\n",
    "print(f\"Percent missing is {round(percent_missing, 2)}\")"
   ],
   "id": "c7c3491d08f8ef6a",
   "outputs": [],
   "execution_count": null
  },
  {
   "metadata": {},
   "cell_type": "code",
   "source": [
    "# columns_with_na_dropped = nfl_data.dropna(axis=1)\n",
    "# columns_with_na_dropped.head()"
   ],
   "id": "47e1bcc0d8e63385",
   "outputs": [],
   "execution_count": null
  },
  {
   "metadata": {},
   "cell_type": "code",
   "source": [
    "# columns_with_na_dropped.isnull().sum()\n",
    "# print(\"Columns in original dataset: %d \\n\" % nfl_data.shape[1])\n",
    "# print(\"Columns with na's dropped: %d\" % columns_with_na_dropped.shape[1])"
   ],
   "id": "9309f6242dc8f408",
   "outputs": [],
   "execution_count": null
  },
  {
   "metadata": {},
   "cell_type": "code",
   "source": "subset_nfl_data = nfl_data.loc[:, \"EPA\":\"Season\"].head()",
   "id": "7cd8f88655331550",
   "outputs": [],
   "execution_count": null
  },
  {
   "metadata": {},
   "cell_type": "code",
   "source": [
    "subset_nfl_data.fillna(0)\n",
    "subset_nfl_data.fillna(method=\"bfill\", axis=0).fillna(0)"
   ],
   "id": "cb0032e5e7bed75c",
   "outputs": [],
   "execution_count": null
  },
  {
   "metadata": {},
   "cell_type": "code",
   "source": "",
   "id": "b9bed6c56e16ef7d",
   "outputs": [],
   "execution_count": null
  }
 ],
 "metadata": {
  "kernelspec": {
   "display_name": "Python 3",
   "language": "python",
   "name": "python3"
  },
  "language_info": {
   "codemirror_mode": {
    "name": "ipython",
    "version": 2
   },
   "file_extension": ".py",
   "mimetype": "text/x-python",
   "name": "python",
   "nbconvert_exporter": "python",
   "pygments_lexer": "ipython2",
   "version": "2.7.6"
  }
 },
 "nbformat": 4,
 "nbformat_minor": 5
}
