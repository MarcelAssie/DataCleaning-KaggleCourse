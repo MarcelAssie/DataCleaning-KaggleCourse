{
 "cells": [
  {
   "cell_type": "code",
   "id": "initial_id",
   "metadata": {
    "collapsed": true,
    "ExecuteTime": {
     "end_time": "2025-07-26T22:14:00.895742Z",
     "start_time": "2025-07-26T22:13:58.601697Z"
    }
   },
   "source": [
    "import pandas as pd\n",
    "import numpy as np\n",
    "pd.set_option('display.max_rows', 5)"
   ],
   "outputs": [],
   "execution_count": 1
  },
  {
   "metadata": {
    "ExecuteTime": {
     "end_time": "2025-07-26T22:14:09.411201Z",
     "start_time": "2025-07-26T22:14:00.933711Z"
    }
   },
   "cell_type": "code",
   "source": "nfl_data = pd.read_csv(\"../data/nflplaybyplay2009to2016/NFL Play by Play 2009-2017 (v4).csv\")",
   "id": "6b02e5734efbab23",
   "outputs": [
    {
     "name": "stderr",
     "output_type": "stream",
     "text": [
      "C:\\Users\\jeanm\\AppData\\Local\\Temp\\ipykernel_4468\\752967555.py:1: DtypeWarning: Columns (25,51) have mixed types. Specify dtype option on import or set low_memory=False.\n",
      "  nfl_data = pd.read_csv(\"../data/nflplaybyplay2009to2016/NFL Play by Play 2009-2017 (v4).csv\")\n"
     ]
    }
   ],
   "execution_count": 2
  },
  {
   "metadata": {
    "ExecuteTime": {
     "end_time": "2025-07-26T22:14:12.328002Z",
     "start_time": "2025-07-26T22:14:10.786091Z"
    }
   },
   "cell_type": "code",
   "source": "nfl_data.describe()",
   "id": "e3bd39b1511e67ec",
   "outputs": [
    {
     "data": {
      "text/plain": [
       "             GameID          Drive            qtr           down    TimeUnder  \\\n",
       "count  4.076880e+05  407688.000000  407688.000000  346534.000000  407688.0000   \n",
       "mean   2.013158e+09      12.316158       2.577412       2.002476       7.3742   \n",
       "...             ...            ...            ...            ...          ...   \n",
       "75%    2.015121e+09      18.000000       4.000000       3.000000      11.0000   \n",
       "max    2.017123e+09      35.000000       5.000000       4.000000      15.0000   \n",
       "\n",
       "            TimeSecs   PlayTimeDiff          yrdln     yrdline100  \\\n",
       "count  407464.000000  407244.000000  406848.000000  406848.000000   \n",
       "mean     1695.268944      20.576762      28.488327      48.644081   \n",
       "...              ...            ...            ...            ...   \n",
       "75%      2585.000000      37.000000      39.000000      70.000000   \n",
       "max      3600.000000     943.000000      50.000000      99.000000   \n",
       "\n",
       "             ydstogo  ...         yacEPA    Home_WP_pre    Away_WP_pre  \\\n",
       "count  407688.000000  ...  159190.000000  382734.000000  382734.000000   \n",
       "mean        7.309403  ...      -0.386086       0.534488       0.465965   \n",
       "...              ...  ...            ...            ...            ...   \n",
       "75%        10.000000  ...       0.485508       0.769232       0.675530   \n",
       "max        50.000000  ...       9.559834       1.000000       1.000000   \n",
       "\n",
       "        Home_WP_post   Away_WP_post       Win_Prob            WPA  \\\n",
       "count  381101.000000  381101.000000  382679.000000  402147.000000   \n",
       "mean        0.534791       0.465613       0.501320       0.002099   \n",
       "...              ...            ...            ...            ...   \n",
       "75%         0.772882       0.678833       0.725477       0.014684   \n",
       "max         1.000000       1.000000       1.000000       0.994848   \n",
       "\n",
       "              airWPA         yacWPA         Season  \n",
       "count  159187.000000  158926.000000  407688.000000  \n",
       "mean        0.015135      -0.010480    2013.018985  \n",
       "...              ...            ...            ...  \n",
       "75%         0.035792       0.011431    2015.000000  \n",
       "max         0.994848       1.000000    2017.000000  \n",
       "\n",
       "[8 rows x 64 columns]"
      ],
      "text/html": [
       "<div>\n",
       "<style scoped>\n",
       "    .dataframe tbody tr th:only-of-type {\n",
       "        vertical-align: middle;\n",
       "    }\n",
       "\n",
       "    .dataframe tbody tr th {\n",
       "        vertical-align: top;\n",
       "    }\n",
       "\n",
       "    .dataframe thead th {\n",
       "        text-align: right;\n",
       "    }\n",
       "</style>\n",
       "<table border=\"1\" class=\"dataframe\">\n",
       "  <thead>\n",
       "    <tr style=\"text-align: right;\">\n",
       "      <th></th>\n",
       "      <th>GameID</th>\n",
       "      <th>Drive</th>\n",
       "      <th>qtr</th>\n",
       "      <th>down</th>\n",
       "      <th>TimeUnder</th>\n",
       "      <th>TimeSecs</th>\n",
       "      <th>PlayTimeDiff</th>\n",
       "      <th>yrdln</th>\n",
       "      <th>yrdline100</th>\n",
       "      <th>ydstogo</th>\n",
       "      <th>...</th>\n",
       "      <th>yacEPA</th>\n",
       "      <th>Home_WP_pre</th>\n",
       "      <th>Away_WP_pre</th>\n",
       "      <th>Home_WP_post</th>\n",
       "      <th>Away_WP_post</th>\n",
       "      <th>Win_Prob</th>\n",
       "      <th>WPA</th>\n",
       "      <th>airWPA</th>\n",
       "      <th>yacWPA</th>\n",
       "      <th>Season</th>\n",
       "    </tr>\n",
       "  </thead>\n",
       "  <tbody>\n",
       "    <tr>\n",
       "      <th>count</th>\n",
       "      <td>4.076880e+05</td>\n",
       "      <td>407688.000000</td>\n",
       "      <td>407688.000000</td>\n",
       "      <td>346534.000000</td>\n",
       "      <td>407688.0000</td>\n",
       "      <td>407464.000000</td>\n",
       "      <td>407244.000000</td>\n",
       "      <td>406848.000000</td>\n",
       "      <td>406848.000000</td>\n",
       "      <td>407688.000000</td>\n",
       "      <td>...</td>\n",
       "      <td>159190.000000</td>\n",
       "      <td>382734.000000</td>\n",
       "      <td>382734.000000</td>\n",
       "      <td>381101.000000</td>\n",
       "      <td>381101.000000</td>\n",
       "      <td>382679.000000</td>\n",
       "      <td>402147.000000</td>\n",
       "      <td>159187.000000</td>\n",
       "      <td>158926.000000</td>\n",
       "      <td>407688.000000</td>\n",
       "    </tr>\n",
       "    <tr>\n",
       "      <th>mean</th>\n",
       "      <td>2.013158e+09</td>\n",
       "      <td>12.316158</td>\n",
       "      <td>2.577412</td>\n",
       "      <td>2.002476</td>\n",
       "      <td>7.3742</td>\n",
       "      <td>1695.268944</td>\n",
       "      <td>20.576762</td>\n",
       "      <td>28.488327</td>\n",
       "      <td>48.644081</td>\n",
       "      <td>7.309403</td>\n",
       "      <td>...</td>\n",
       "      <td>-0.386086</td>\n",
       "      <td>0.534488</td>\n",
       "      <td>0.465965</td>\n",
       "      <td>0.534791</td>\n",
       "      <td>0.465613</td>\n",
       "      <td>0.501320</td>\n",
       "      <td>0.002099</td>\n",
       "      <td>0.015135</td>\n",
       "      <td>-0.010480</td>\n",
       "      <td>2013.018985</td>\n",
       "    </tr>\n",
       "    <tr>\n",
       "      <th>...</th>\n",
       "      <td>...</td>\n",
       "      <td>...</td>\n",
       "      <td>...</td>\n",
       "      <td>...</td>\n",
       "      <td>...</td>\n",
       "      <td>...</td>\n",
       "      <td>...</td>\n",
       "      <td>...</td>\n",
       "      <td>...</td>\n",
       "      <td>...</td>\n",
       "      <td>...</td>\n",
       "      <td>...</td>\n",
       "      <td>...</td>\n",
       "      <td>...</td>\n",
       "      <td>...</td>\n",
       "      <td>...</td>\n",
       "      <td>...</td>\n",
       "      <td>...</td>\n",
       "      <td>...</td>\n",
       "      <td>...</td>\n",
       "      <td>...</td>\n",
       "    </tr>\n",
       "    <tr>\n",
       "      <th>75%</th>\n",
       "      <td>2.015121e+09</td>\n",
       "      <td>18.000000</td>\n",
       "      <td>4.000000</td>\n",
       "      <td>3.000000</td>\n",
       "      <td>11.0000</td>\n",
       "      <td>2585.000000</td>\n",
       "      <td>37.000000</td>\n",
       "      <td>39.000000</td>\n",
       "      <td>70.000000</td>\n",
       "      <td>10.000000</td>\n",
       "      <td>...</td>\n",
       "      <td>0.485508</td>\n",
       "      <td>0.769232</td>\n",
       "      <td>0.675530</td>\n",
       "      <td>0.772882</td>\n",
       "      <td>0.678833</td>\n",
       "      <td>0.725477</td>\n",
       "      <td>0.014684</td>\n",
       "      <td>0.035792</td>\n",
       "      <td>0.011431</td>\n",
       "      <td>2015.000000</td>\n",
       "    </tr>\n",
       "    <tr>\n",
       "      <th>max</th>\n",
       "      <td>2.017123e+09</td>\n",
       "      <td>35.000000</td>\n",
       "      <td>5.000000</td>\n",
       "      <td>4.000000</td>\n",
       "      <td>15.0000</td>\n",
       "      <td>3600.000000</td>\n",
       "      <td>943.000000</td>\n",
       "      <td>50.000000</td>\n",
       "      <td>99.000000</td>\n",
       "      <td>50.000000</td>\n",
       "      <td>...</td>\n",
       "      <td>9.559834</td>\n",
       "      <td>1.000000</td>\n",
       "      <td>1.000000</td>\n",
       "      <td>1.000000</td>\n",
       "      <td>1.000000</td>\n",
       "      <td>1.000000</td>\n",
       "      <td>0.994848</td>\n",
       "      <td>0.994848</td>\n",
       "      <td>1.000000</td>\n",
       "      <td>2017.000000</td>\n",
       "    </tr>\n",
       "  </tbody>\n",
       "</table>\n",
       "<p>8 rows × 64 columns</p>\n",
       "</div>"
      ]
     },
     "execution_count": 3,
     "metadata": {},
     "output_type": "execute_result"
    }
   ],
   "execution_count": 3
  },
  {
   "metadata": {
    "ExecuteTime": {
     "end_time": "2025-07-26T22:14:13.258256Z",
     "start_time": "2025-07-26T22:14:12.435345Z"
    }
   },
   "cell_type": "code",
   "source": [
    "nfl_data.head()\n",
    "missing_values_count = nfl_data.isnull().sum()"
   ],
   "id": "f02762e9352186f6",
   "outputs": [],
   "execution_count": 4
  },
  {
   "metadata": {
    "ExecuteTime": {
     "end_time": "2025-07-26T22:14:13.783290Z",
     "start_time": "2025-07-26T22:14:13.771904Z"
    }
   },
   "cell_type": "code",
   "source": [
    "total_cells = np.prod(nfl_data.shape)\n",
    "total_missing = missing_values_count.sum()\n",
    "\n",
    "percent_missing = (total_missing/total_cells)*100\n",
    "print(f\"Percent missing is {round(percent_missing, 2)}\")"
   ],
   "id": "c7c3491d08f8ef6a",
   "outputs": [
    {
     "name": "stdout",
     "output_type": "stream",
     "text": [
      "Percent missing is 27.67\n"
     ]
    }
   ],
   "execution_count": 5
  },
  {
   "metadata": {
    "ExecuteTime": {
     "end_time": "2025-07-26T22:14:14.445508Z",
     "start_time": "2025-07-26T22:14:14.437609Z"
    }
   },
   "cell_type": "code",
   "source": [
    "# columns_with_na_dropped = nfl_data.dropna(axis=1)\n",
    "# columns_with_na_dropped.head()"
   ],
   "id": "47e1bcc0d8e63385",
   "outputs": [],
   "execution_count": 6
  },
  {
   "metadata": {
    "ExecuteTime": {
     "end_time": "2025-07-26T22:14:15.281083Z",
     "start_time": "2025-07-26T22:14:15.273097Z"
    }
   },
   "cell_type": "code",
   "source": [
    "# columns_with_na_dropped.isnull().sum()\n",
    "# print(\"Columns in original dataset: %d \\n\" % nfl_data.shape[1])\n",
    "# print(\"Columns with na's dropped: %d\" % columns_with_na_dropped.shape[1])"
   ],
   "id": "9309f6242dc8f408",
   "outputs": [],
   "execution_count": 7
  },
  {
   "metadata": {
    "ExecuteTime": {
     "end_time": "2025-07-26T22:14:16.163318Z",
     "start_time": "2025-07-26T22:14:16.133503Z"
    }
   },
   "cell_type": "code",
   "source": "subset_nfl_data = nfl_data.loc[:, \"EPA\":\"Season\"].head()",
   "id": "7cd8f88655331550",
   "outputs": [],
   "execution_count": 8
  },
  {
   "metadata": {
    "ExecuteTime": {
     "end_time": "2025-07-26T22:14:16.436017Z",
     "start_time": "2025-07-26T22:14:16.398112Z"
    }
   },
   "cell_type": "code",
   "source": [
    "subset_nfl_data.fillna(0)\n",
    "subset_nfl_data.fillna(method=\"bfill\", axis=0).fillna(0)"
   ],
   "id": "cb0032e5e7bed75c",
   "outputs": [
    {
     "name": "stderr",
     "output_type": "stream",
     "text": [
      "C:\\Users\\jeanm\\AppData\\Local\\Temp\\ipykernel_4468\\1874539183.py:2: FutureWarning: DataFrame.fillna with 'method' is deprecated and will raise in a future version. Use obj.ffill() or obj.bfill() instead.\n",
      "  subset_nfl_data.fillna(method=\"bfill\", axis=0).fillna(0)\n"
     ]
    },
    {
     "data": {
      "text/plain": [
       "        EPA    airEPA    yacEPA  Home_WP_pre  Away_WP_pre  Home_WP_post  \\\n",
       "0  2.014474 -1.068169  1.146076     0.485675     0.514325      0.546433   \n",
       "1  0.077907 -1.068169  1.146076     0.546433     0.453567      0.551088   \n",
       "2 -1.402760  3.318841 -5.031425     0.551088     0.448912      0.510793   \n",
       "3 -1.712583  3.318841 -5.031425     0.510793     0.489207      0.461217   \n",
       "4  2.097796  0.000000  0.000000     0.461217     0.538783      0.558929   \n",
       "\n",
       "   Away_WP_post  Win_Prob       WPA    airWPA    yacWPA  Season  \n",
       "0      0.453567  0.485675  0.060758 -0.032244  0.036899    2009  \n",
       "1      0.448912  0.546433  0.004655 -0.032244  0.036899    2009  \n",
       "2      0.489207  0.551088 -0.040295  0.106663 -0.156239    2009  \n",
       "3      0.538783  0.510793 -0.049576  0.106663 -0.156239    2009  \n",
       "4      0.441071  0.461217  0.097712  0.000000  0.000000    2009  "
      ],
      "text/html": [
       "<div>\n",
       "<style scoped>\n",
       "    .dataframe tbody tr th:only-of-type {\n",
       "        vertical-align: middle;\n",
       "    }\n",
       "\n",
       "    .dataframe tbody tr th {\n",
       "        vertical-align: top;\n",
       "    }\n",
       "\n",
       "    .dataframe thead th {\n",
       "        text-align: right;\n",
       "    }\n",
       "</style>\n",
       "<table border=\"1\" class=\"dataframe\">\n",
       "  <thead>\n",
       "    <tr style=\"text-align: right;\">\n",
       "      <th></th>\n",
       "      <th>EPA</th>\n",
       "      <th>airEPA</th>\n",
       "      <th>yacEPA</th>\n",
       "      <th>Home_WP_pre</th>\n",
       "      <th>Away_WP_pre</th>\n",
       "      <th>Home_WP_post</th>\n",
       "      <th>Away_WP_post</th>\n",
       "      <th>Win_Prob</th>\n",
       "      <th>WPA</th>\n",
       "      <th>airWPA</th>\n",
       "      <th>yacWPA</th>\n",
       "      <th>Season</th>\n",
       "    </tr>\n",
       "  </thead>\n",
       "  <tbody>\n",
       "    <tr>\n",
       "      <th>0</th>\n",
       "      <td>2.014474</td>\n",
       "      <td>-1.068169</td>\n",
       "      <td>1.146076</td>\n",
       "      <td>0.485675</td>\n",
       "      <td>0.514325</td>\n",
       "      <td>0.546433</td>\n",
       "      <td>0.453567</td>\n",
       "      <td>0.485675</td>\n",
       "      <td>0.060758</td>\n",
       "      <td>-0.032244</td>\n",
       "      <td>0.036899</td>\n",
       "      <td>2009</td>\n",
       "    </tr>\n",
       "    <tr>\n",
       "      <th>1</th>\n",
       "      <td>0.077907</td>\n",
       "      <td>-1.068169</td>\n",
       "      <td>1.146076</td>\n",
       "      <td>0.546433</td>\n",
       "      <td>0.453567</td>\n",
       "      <td>0.551088</td>\n",
       "      <td>0.448912</td>\n",
       "      <td>0.546433</td>\n",
       "      <td>0.004655</td>\n",
       "      <td>-0.032244</td>\n",
       "      <td>0.036899</td>\n",
       "      <td>2009</td>\n",
       "    </tr>\n",
       "    <tr>\n",
       "      <th>2</th>\n",
       "      <td>-1.402760</td>\n",
       "      <td>3.318841</td>\n",
       "      <td>-5.031425</td>\n",
       "      <td>0.551088</td>\n",
       "      <td>0.448912</td>\n",
       "      <td>0.510793</td>\n",
       "      <td>0.489207</td>\n",
       "      <td>0.551088</td>\n",
       "      <td>-0.040295</td>\n",
       "      <td>0.106663</td>\n",
       "      <td>-0.156239</td>\n",
       "      <td>2009</td>\n",
       "    </tr>\n",
       "    <tr>\n",
       "      <th>3</th>\n",
       "      <td>-1.712583</td>\n",
       "      <td>3.318841</td>\n",
       "      <td>-5.031425</td>\n",
       "      <td>0.510793</td>\n",
       "      <td>0.489207</td>\n",
       "      <td>0.461217</td>\n",
       "      <td>0.538783</td>\n",
       "      <td>0.510793</td>\n",
       "      <td>-0.049576</td>\n",
       "      <td>0.106663</td>\n",
       "      <td>-0.156239</td>\n",
       "      <td>2009</td>\n",
       "    </tr>\n",
       "    <tr>\n",
       "      <th>4</th>\n",
       "      <td>2.097796</td>\n",
       "      <td>0.000000</td>\n",
       "      <td>0.000000</td>\n",
       "      <td>0.461217</td>\n",
       "      <td>0.538783</td>\n",
       "      <td>0.558929</td>\n",
       "      <td>0.441071</td>\n",
       "      <td>0.461217</td>\n",
       "      <td>0.097712</td>\n",
       "      <td>0.000000</td>\n",
       "      <td>0.000000</td>\n",
       "      <td>2009</td>\n",
       "    </tr>\n",
       "  </tbody>\n",
       "</table>\n",
       "</div>"
      ]
     },
     "execution_count": 9,
     "metadata": {},
     "output_type": "execute_result"
    }
   ],
   "execution_count": 9
  }
 ],
 "metadata": {
  "kernelspec": {
   "display_name": "Python 3",
   "language": "python",
   "name": "python3"
  },
  "language_info": {
   "codemirror_mode": {
    "name": "ipython",
    "version": 2
   },
   "file_extension": ".py",
   "mimetype": "text/x-python",
   "name": "python",
   "nbconvert_exporter": "python",
   "pygments_lexer": "ipython2",
   "version": "2.7.6"
  }
 },
 "nbformat": 4,
 "nbformat_minor": 5
}
